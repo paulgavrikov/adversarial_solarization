{
 "cells": [
  {
   "cell_type": "code",
   "execution_count": 2,
   "id": "1271b7f5-669b-4d52-8416-706d932ae656",
   "metadata": {},
   "outputs": [],
   "source": [
    "import numpy as np\n",
    "import matplotlib.pyplot as plt\n",
    "import torch\n",
    "import torch.utils.data\n",
    "import torchvision\n",
    "import timm\n",
    "import kornia\n",
    "from torch.utils.data import DataLoader\n",
    "from tqdm import tqdm\n",
    "import numpy as np\n",
    "\n",
    "class NormalizedModel(torch.nn.Module):\n",
    "\n",
    "    def __init__(self, model, mean, std):\n",
    "        super(NormalizedModel, self).__init__()\n",
    "        self.model = model\n",
    "        self.mean = torch.nn.Parameter(torch.Tensor(mean).view(-1, 1, 1), requires_grad=False)\n",
    "        self.std = torch.nn.Parameter(torch.Tensor(std).view(-1, 1, 1), requires_grad=False)\n",
    "\n",
    "    def forward(self, x):\n",
    "        out = (x - self.mean) / self.std \n",
    "        out = self.model(out)\n",
    "        return out"
   ]
  },
  {
   "cell_type": "code",
   "execution_count": 5,
   "id": "413da8ba-8068-4127-bd1b-fca2bfee94a7",
   "metadata": {},
   "outputs": [
    {
     "name": "stderr",
     "output_type": "stream",
     "text": [
      "Downloading: \"https://download.pytorch.org/models/vgg16_bn-6c64b313.pth\" to /home/pgavrikov/.cache/torch/hub/checkpoints/vgg16_bn-6c64b313.pth\n"
     ]
    }
   ],
   "source": [
    "dataset = torchvision.datasets.ImageNet(\"/home/SSD/ImageNet/\", \n",
    "                                        split=\"val\", \n",
    "                                        transform=torchvision.transforms.Compose(\n",
    "                                            [\n",
    "                                                torchvision.transforms.Resize(256), \n",
    "                                                torchvision.transforms.CenterCrop(224), \n",
    "                                                torchvision.transforms.ToTensor()\n",
    "                                            ]\n",
    "                                        )\n",
    "                                       )\n",
    "\n",
    "dataloader = DataLoader(dataset, batch_size=128, shuffle=True, pin_memory=True, num_workers=1)\n",
    "\n",
    "for x, y in (dataloader):\n",
    "    bx = x.cuda()\n",
    "    by = y.cuda()\n",
    "    break\n",
    "    \n",
    "    \n",
    "model = timm.create_model(\"vgg16_bn\", pretrained=True)\n",
    "model = NormalizedModel(model, model.default_cfg.get(\"mean\"), model.default_cfg.get(\"std\"))\n",
    "model.cuda()\n",
    "model.eval()\n",
    "pass"
   ]
  },
  {
   "cell_type": "code",
   "execution_count": 6,
   "id": "b37e9e1b-d1da-42fd-8ee6-1caa1f01fccf",
   "metadata": {},
   "outputs": [
    {
     "name": "stderr",
     "output_type": "stream",
     "text": [
      "100%|██████████| 391/391 [15:02<00:00,  2.31s/it]"
     ]
    },
    {
     "name": "stdout",
     "output_type": "stream",
     "text": [
      "0.11796\n"
     ]
    },
    {
     "name": "stderr",
     "output_type": "stream",
     "text": [
      "\n"
     ]
    }
   ],
   "source": [
    "correct = 0\n",
    "total = 0\n",
    "\n",
    "with torch.no_grad():\n",
    "    \n",
    "    for x, y in tqdm(dataloader):\n",
    "        bx = x.cuda()\n",
    "        by = y.cuda()\n",
    "\n",
    "        a = torch.empty(len(by))\n",
    "        is_correct = torch.ones(len(by)).bool().cuda()\n",
    "\n",
    "        for _ in range(10):\n",
    "            a.data[is_correct] = torch.tensor(np.random.uniform(0, 1, len(a.data[is_correct]))).float()\n",
    "\n",
    "            x_aug = kornia.enhance.solarize(bx, a)\n",
    "            logits = model(x_aug)\n",
    "            is_correct.data = (logits.argmax(dim=1) == by).detach()\n",
    "            acc = is_correct.float().mean().item()\n",
    "        \n",
    "        correct += is_correct.float().sum().item()\n",
    "        total += len(by)\n",
    "        \n",
    "print(correct / total)"
   ]
  }
 ],
 "metadata": {
  "kernelspec": {
   "display_name": "gpubenchmark",
   "language": "python",
   "name": "gpubenchmark"
  },
  "language_info": {
   "codemirror_mode": {
    "name": "ipython",
    "version": 3
   },
   "file_extension": ".py",
   "mimetype": "text/x-python",
   "name": "python",
   "nbconvert_exporter": "python",
   "pygments_lexer": "ipython3",
   "version": "3.9.13"
  }
 },
 "nbformat": 4,
 "nbformat_minor": 5
}
